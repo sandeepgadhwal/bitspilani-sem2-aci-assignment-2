{
 "cells": [
  {
   "cell_type": "markdown",
   "metadata": {},
   "source": [
    "<center><h2>Artificial and Computational Intelligence (Assignment - 2)</h2></center>"
   ]
  },
  {
   "cell_type": "markdown",
   "metadata": {},
   "source": [
    "## Problem Statement\n",
    "\n",
    "As part of the 2nd Assignment, we'll implement Bayesian Networks and also learn to use the pomegranate library.\n",
    "\n",
    "You are required to create a bayesian network model which would help you predict the probability. The detailed problem description is attached as a PDF as a part of this assignment along with the marking scheme.  \n",
    "\n",
    "### What is a Bayesian Network ?\n",
    "\n",
    "A Bayesian network, Bayes network, belief network, decision network, Bayes(ian) model or probabilistic directed acyclic graphical model is a probabilistic graphical model (a type of statistical model) that represents a set of variables and their conditional dependencies via a directed acyclic graph (DAG). \n",
    "\n",
    "Bayesian networks are ideal for taking an event that occurred and predicting the likelihood that any one of several possible known causes was the contributing factor. For example, a Bayesian network could represent the probabilistic relationships between diseases and symptoms. Given symptoms, the network can be used to compute the probabilities of the presence of various diseases. \n",
    "\n",
    "### Dataset\n",
    "\n",
    "The dataset is attached with the assignment as excel & can be converted to .csv \n",
    "\n",
    "#### Dataset Description\n",
    "##### Sample Tuple\n",
    "\n",
    "Y\twon\t5wickets\tlost\t2nd\tvWest_Indies\tHome\t6-Nov-11\n",
    "\n",
    "##### Explanation\n",
    "- The first column represents if Ashwin was in the playing 11 or not. \n",
    "- The second column represents the Result of the match . win indicates India won the match.\n",
    "- The third column represents the Margin of victory / losss.\n",
    "- The fourth column represents the results of the toss. won indicates India won the toss. \n",
    "- The fifth column represents the batting order. If India batted 1st or 2nd. \n",
    "- The sixth column represents the opponent.\n",
    "- The seventh column represents the location of the match. If the match was held in Home(India) or away. \n",
    "- The last column represents the start date of the match.\n",
    "\n",
    "\n",
    "### Evaluation\n",
    "We wish to evaluate based on \n",
    "- coding practices being followed\n",
    "- commenting to explain the code and logic behind doing something\n",
    "- your understanding and explanation of data\n",
    "- how good the model would perform"
   ]
  },
  {
   "cell_type": "markdown",
   "metadata": {},
   "source": [
    "## BITS RollNumbers , Names. "
   ]
  },
  {
   "cell_type": "markdown",
   "metadata": {},
   "source": [
    "Sandeep Kumar"
   ]
  },
  {
   "cell_type": "markdown",
   "metadata": {},
   "source": [
    "## Import libraries"
   ]
  },
  {
   "cell_type": "code",
   "execution_count": 1,
   "metadata": {},
   "outputs": [],
   "source": [
    "%config Completer.use_jedi = False"
   ]
  },
  {
   "cell_type": "code",
   "execution_count": 2,
   "metadata": {},
   "outputs": [],
   "source": [
    "%matplotlib inline"
   ]
  },
  {
   "cell_type": "code",
   "execution_count": 20,
   "metadata": {},
   "outputs": [],
   "source": [
    "import pandas as pd\n",
    "import numpy as np"
   ]
  },
  {
   "cell_type": "code",
   "execution_count": null,
   "metadata": {},
   "outputs": [],
   "source": []
  },
  {
   "cell_type": "markdown",
   "metadata": {},
   "source": [
    "## Read data"
   ]
  },
  {
   "cell_type": "code",
   "execution_count": 4,
   "metadata": {},
   "outputs": [],
   "source": [
    "df = pd.read_excel('./India_Test_Stats.xlsx')"
   ]
  },
  {
   "cell_type": "code",
   "execution_count": 5,
   "metadata": {},
   "outputs": [
    {
     "data": {
      "text/html": [
       "<div>\n",
       "<style scoped>\n",
       "    .dataframe tbody tr th:only-of-type {\n",
       "        vertical-align: middle;\n",
       "    }\n",
       "\n",
       "    .dataframe tbody tr th {\n",
       "        vertical-align: top;\n",
       "    }\n",
       "\n",
       "    .dataframe thead th {\n",
       "        text-align: right;\n",
       "    }\n",
       "</style>\n",
       "<table border=\"1\" class=\"dataframe\">\n",
       "  <thead>\n",
       "    <tr style=\"text-align: right;\">\n",
       "      <th></th>\n",
       "      <th>Ashwin</th>\n",
       "      <th>Result</th>\n",
       "      <th>Margin</th>\n",
       "      <th>Toss</th>\n",
       "      <th>Bat</th>\n",
       "      <th>Opposition</th>\n",
       "      <th>Location</th>\n",
       "      <th>Start Date</th>\n",
       "      <th>Unnamed: 8</th>\n",
       "      <th>Unnamed: 9</th>\n",
       "      <th>Unnamed: 10</th>\n",
       "      <th>Unnamed: 11</th>\n",
       "      <th>Unnamed: 12</th>\n",
       "      <th>Unnamed: 13</th>\n",
       "      <th>Unnamed: 14</th>\n",
       "      <th>Unnamed: 15</th>\n",
       "      <th>Unnamed: 16</th>\n",
       "    </tr>\n",
       "  </thead>\n",
       "  <tbody>\n",
       "    <tr>\n",
       "      <th>0</th>\n",
       "      <td>Y</td>\n",
       "      <td>won</td>\n",
       "      <td>5 wickets</td>\n",
       "      <td>lost</td>\n",
       "      <td>2nd</td>\n",
       "      <td>v West Indies</td>\n",
       "      <td>Home</td>\n",
       "      <td>2011-11-06</td>\n",
       "      <td>NaN</td>\n",
       "      <td>NaN</td>\n",
       "      <td>NaN</td>\n",
       "      <td>NaN</td>\n",
       "      <td>NaN</td>\n",
       "      <td>NaN</td>\n",
       "      <td>NaN</td>\n",
       "      <td>NaN</td>\n",
       "      <td>NaN</td>\n",
       "    </tr>\n",
       "    <tr>\n",
       "      <th>1</th>\n",
       "      <td>Y</td>\n",
       "      <td>won</td>\n",
       "      <td>inns &amp; 15 runs</td>\n",
       "      <td>won</td>\n",
       "      <td>1st</td>\n",
       "      <td>v West Indies</td>\n",
       "      <td>Home</td>\n",
       "      <td>2011-11-14</td>\n",
       "      <td>NaN</td>\n",
       "      <td>NaN</td>\n",
       "      <td>NaN</td>\n",
       "      <td>NaN</td>\n",
       "      <td>NaN</td>\n",
       "      <td>NaN</td>\n",
       "      <td>NaN</td>\n",
       "      <td>NaN</td>\n",
       "      <td>NaN</td>\n",
       "    </tr>\n",
       "    <tr>\n",
       "      <th>2</th>\n",
       "      <td>Y</td>\n",
       "      <td>draw</td>\n",
       "      <td>-</td>\n",
       "      <td>lost</td>\n",
       "      <td>2nd</td>\n",
       "      <td>v West Indies</td>\n",
       "      <td>Home</td>\n",
       "      <td>2011-11-22</td>\n",
       "      <td>NaN</td>\n",
       "      <td>NaN</td>\n",
       "      <td>NaN</td>\n",
       "      <td>NaN</td>\n",
       "      <td>NaN</td>\n",
       "      <td>NaN</td>\n",
       "      <td>NaN</td>\n",
       "      <td>NaN</td>\n",
       "      <td>NaN</td>\n",
       "    </tr>\n",
       "    <tr>\n",
       "      <th>3</th>\n",
       "      <td>Y</td>\n",
       "      <td>lost</td>\n",
       "      <td>122 runs</td>\n",
       "      <td>lost</td>\n",
       "      <td>2nd</td>\n",
       "      <td>v Australia</td>\n",
       "      <td>Away</td>\n",
       "      <td>2011-12-26</td>\n",
       "      <td>NaN</td>\n",
       "      <td>NaN</td>\n",
       "      <td>NaN</td>\n",
       "      <td>NaN</td>\n",
       "      <td>NaN</td>\n",
       "      <td>NaN</td>\n",
       "      <td>NaN</td>\n",
       "      <td>NaN</td>\n",
       "      <td>NaN</td>\n",
       "    </tr>\n",
       "    <tr>\n",
       "      <th>4</th>\n",
       "      <td>Y</td>\n",
       "      <td>lost</td>\n",
       "      <td>inns &amp; 68 runs</td>\n",
       "      <td>won</td>\n",
       "      <td>1st</td>\n",
       "      <td>v Australia</td>\n",
       "      <td>Away</td>\n",
       "      <td>2012-01-03</td>\n",
       "      <td>NaN</td>\n",
       "      <td>NaN</td>\n",
       "      <td>NaN</td>\n",
       "      <td>NaN</td>\n",
       "      <td>NaN</td>\n",
       "      <td>NaN</td>\n",
       "      <td>NaN</td>\n",
       "      <td>NaN</td>\n",
       "      <td>NaN</td>\n",
       "    </tr>\n",
       "    <tr>\n",
       "      <th>...</th>\n",
       "      <td>...</td>\n",
       "      <td>...</td>\n",
       "      <td>...</td>\n",
       "      <td>...</td>\n",
       "      <td>...</td>\n",
       "      <td>...</td>\n",
       "      <td>...</td>\n",
       "      <td>...</td>\n",
       "      <td>...</td>\n",
       "      <td>...</td>\n",
       "      <td>...</td>\n",
       "      <td>...</td>\n",
       "      <td>...</td>\n",
       "      <td>...</td>\n",
       "      <td>...</td>\n",
       "      <td>...</td>\n",
       "      <td>...</td>\n",
       "    </tr>\n",
       "    <tr>\n",
       "      <th>95</th>\n",
       "      <td>NaN</td>\n",
       "      <td>NaN</td>\n",
       "      <td>NaN</td>\n",
       "      <td>NaN</td>\n",
       "      <td>NaN</td>\n",
       "      <td>NaN</td>\n",
       "      <td>NaN</td>\n",
       "      <td>NaT</td>\n",
       "      <td>NaN</td>\n",
       "      <td>NaN</td>\n",
       "      <td>NaN</td>\n",
       "      <td>NaN</td>\n",
       "      <td>NaN</td>\n",
       "      <td>NaN</td>\n",
       "      <td>NaN</td>\n",
       "      <td>NaN</td>\n",
       "      <td>NaN</td>\n",
       "    </tr>\n",
       "    <tr>\n",
       "      <th>96</th>\n",
       "      <td>NaN</td>\n",
       "      <td>NaN</td>\n",
       "      <td>NaN</td>\n",
       "      <td>NaN</td>\n",
       "      <td>NaN</td>\n",
       "      <td>NaN</td>\n",
       "      <td>NaN</td>\n",
       "      <td>NaT</td>\n",
       "      <td>NaN</td>\n",
       "      <td>NaN</td>\n",
       "      <td>NaN</td>\n",
       "      <td>NaN</td>\n",
       "      <td>NaN</td>\n",
       "      <td>NaN</td>\n",
       "      <td>NaN</td>\n",
       "      <td>NaN</td>\n",
       "      <td>NaN</td>\n",
       "    </tr>\n",
       "    <tr>\n",
       "      <th>97</th>\n",
       "      <td>NaN</td>\n",
       "      <td>NaN</td>\n",
       "      <td>NaN</td>\n",
       "      <td>NaN</td>\n",
       "      <td>NaN</td>\n",
       "      <td>NaN</td>\n",
       "      <td>NaN</td>\n",
       "      <td>NaT</td>\n",
       "      <td>NaN</td>\n",
       "      <td>NaN</td>\n",
       "      <td>NaN</td>\n",
       "      <td>NaN</td>\n",
       "      <td>NaN</td>\n",
       "      <td>NaN</td>\n",
       "      <td>NaN</td>\n",
       "      <td>NaN</td>\n",
       "      <td>NaN</td>\n",
       "    </tr>\n",
       "    <tr>\n",
       "      <th>98</th>\n",
       "      <td>NaN</td>\n",
       "      <td>NaN</td>\n",
       "      <td>NaN</td>\n",
       "      <td>NaN</td>\n",
       "      <td>NaN</td>\n",
       "      <td>NaN</td>\n",
       "      <td>NaN</td>\n",
       "      <td>NaT</td>\n",
       "      <td>NaN</td>\n",
       "      <td>NaN</td>\n",
       "      <td>NaN</td>\n",
       "      <td>NaN</td>\n",
       "      <td>NaN</td>\n",
       "      <td>NaN</td>\n",
       "      <td>NaN</td>\n",
       "      <td>NaN</td>\n",
       "      <td>NaN</td>\n",
       "    </tr>\n",
       "    <tr>\n",
       "      <th>99</th>\n",
       "      <td>NaN</td>\n",
       "      <td>NaN</td>\n",
       "      <td>NaN</td>\n",
       "      <td>NaN</td>\n",
       "      <td>NaN</td>\n",
       "      <td>NaN</td>\n",
       "      <td>NaN</td>\n",
       "      <td>NaT</td>\n",
       "      <td>NaN</td>\n",
       "      <td>NaN</td>\n",
       "      <td>NaN</td>\n",
       "      <td>NaN</td>\n",
       "      <td>NaN</td>\n",
       "      <td>NaN</td>\n",
       "      <td>NaN</td>\n",
       "      <td>NaN</td>\n",
       "      <td>NaN</td>\n",
       "    </tr>\n",
       "  </tbody>\n",
       "</table>\n",
       "<p>100 rows × 17 columns</p>\n",
       "</div>"
      ],
      "text/plain": [
       "   Ashwin Result          Margin  Toss  Bat     Opposition Location  \\\n",
       "0       Y    won       5 wickets  lost  2nd  v West Indies     Home   \n",
       "1       Y    won  inns & 15 runs   won  1st  v West Indies     Home   \n",
       "2       Y   draw               -  lost  2nd  v West Indies     Home   \n",
       "3       Y   lost        122 runs  lost  2nd    v Australia     Away   \n",
       "4       Y   lost  inns & 68 runs   won  1st    v Australia     Away   \n",
       "..    ...    ...             ...   ...  ...            ...      ...   \n",
       "95    NaN    NaN             NaN   NaN  NaN            NaN      NaN   \n",
       "96    NaN    NaN             NaN   NaN  NaN            NaN      NaN   \n",
       "97    NaN    NaN             NaN   NaN  NaN            NaN      NaN   \n",
       "98    NaN    NaN             NaN   NaN  NaN            NaN      NaN   \n",
       "99    NaN    NaN             NaN   NaN  NaN            NaN      NaN   \n",
       "\n",
       "   Start Date  Unnamed: 8  Unnamed: 9  Unnamed: 10  Unnamed: 11  Unnamed: 12  \\\n",
       "0  2011-11-06         NaN         NaN          NaN          NaN          NaN   \n",
       "1  2011-11-14         NaN         NaN          NaN          NaN          NaN   \n",
       "2  2011-11-22         NaN         NaN          NaN          NaN          NaN   \n",
       "3  2011-12-26         NaN         NaN          NaN          NaN          NaN   \n",
       "4  2012-01-03         NaN         NaN          NaN          NaN          NaN   \n",
       "..        ...         ...         ...          ...          ...          ...   \n",
       "95        NaT         NaN         NaN          NaN          NaN          NaN   \n",
       "96        NaT         NaN         NaN          NaN          NaN          NaN   \n",
       "97        NaT         NaN         NaN          NaN          NaN          NaN   \n",
       "98        NaT         NaN         NaN          NaN          NaN          NaN   \n",
       "99        NaT         NaN         NaN          NaN          NaN          NaN   \n",
       "\n",
       "    Unnamed: 13  Unnamed: 14  Unnamed: 15  Unnamed: 16  \n",
       "0           NaN          NaN          NaN          NaN  \n",
       "1           NaN          NaN          NaN          NaN  \n",
       "2           NaN          NaN          NaN          NaN  \n",
       "3           NaN          NaN          NaN          NaN  \n",
       "4           NaN          NaN          NaN          NaN  \n",
       "..          ...          ...          ...          ...  \n",
       "95          NaN          NaN          NaN          NaN  \n",
       "96          NaN          NaN          NaN          NaN  \n",
       "97          NaN          NaN          NaN          NaN  \n",
       "98          NaN          NaN          NaN          NaN  \n",
       "99          NaN          NaN          NaN          NaN  \n",
       "\n",
       "[100 rows x 17 columns]"
      ]
     },
     "execution_count": 5,
     "metadata": {},
     "output_type": "execute_result"
    }
   ],
   "source": [
    "df"
   ]
  },
  {
   "cell_type": "code",
   "execution_count": null,
   "metadata": {},
   "outputs": [],
   "source": []
  },
  {
   "cell_type": "markdown",
   "metadata": {},
   "source": [
    "## Pre-process data (Whatever you feel might be required)"
   ]
  },
  {
   "cell_type": "code",
   "execution_count": 10,
   "metadata": {},
   "outputs": [],
   "source": [
    "df = df.loc[~df.Ashwin.isna(), df.columns[:8]]"
   ]
  },
  {
   "cell_type": "code",
   "execution_count": 11,
   "metadata": {},
   "outputs": [
    {
     "data": {
      "text/html": [
       "<div>\n",
       "<style scoped>\n",
       "    .dataframe tbody tr th:only-of-type {\n",
       "        vertical-align: middle;\n",
       "    }\n",
       "\n",
       "    .dataframe tbody tr th {\n",
       "        vertical-align: top;\n",
       "    }\n",
       "\n",
       "    .dataframe thead th {\n",
       "        text-align: right;\n",
       "    }\n",
       "</style>\n",
       "<table border=\"1\" class=\"dataframe\">\n",
       "  <thead>\n",
       "    <tr style=\"text-align: right;\">\n",
       "      <th></th>\n",
       "      <th>Ashwin</th>\n",
       "      <th>Result</th>\n",
       "      <th>Margin</th>\n",
       "      <th>Toss</th>\n",
       "      <th>Bat</th>\n",
       "      <th>Opposition</th>\n",
       "      <th>Location</th>\n",
       "      <th>Start Date</th>\n",
       "    </tr>\n",
       "  </thead>\n",
       "  <tbody>\n",
       "    <tr>\n",
       "      <th>0</th>\n",
       "      <td>Y</td>\n",
       "      <td>won</td>\n",
       "      <td>5 wickets</td>\n",
       "      <td>lost</td>\n",
       "      <td>2nd</td>\n",
       "      <td>v West Indies</td>\n",
       "      <td>Home</td>\n",
       "      <td>2011-11-06</td>\n",
       "    </tr>\n",
       "    <tr>\n",
       "      <th>1</th>\n",
       "      <td>Y</td>\n",
       "      <td>won</td>\n",
       "      <td>inns &amp; 15 runs</td>\n",
       "      <td>won</td>\n",
       "      <td>1st</td>\n",
       "      <td>v West Indies</td>\n",
       "      <td>Home</td>\n",
       "      <td>2011-11-14</td>\n",
       "    </tr>\n",
       "    <tr>\n",
       "      <th>2</th>\n",
       "      <td>Y</td>\n",
       "      <td>draw</td>\n",
       "      <td>-</td>\n",
       "      <td>lost</td>\n",
       "      <td>2nd</td>\n",
       "      <td>v West Indies</td>\n",
       "      <td>Home</td>\n",
       "      <td>2011-11-22</td>\n",
       "    </tr>\n",
       "    <tr>\n",
       "      <th>3</th>\n",
       "      <td>Y</td>\n",
       "      <td>lost</td>\n",
       "      <td>122 runs</td>\n",
       "      <td>lost</td>\n",
       "      <td>2nd</td>\n",
       "      <td>v Australia</td>\n",
       "      <td>Away</td>\n",
       "      <td>2011-12-26</td>\n",
       "    </tr>\n",
       "    <tr>\n",
       "      <th>4</th>\n",
       "      <td>Y</td>\n",
       "      <td>lost</td>\n",
       "      <td>inns &amp; 68 runs</td>\n",
       "      <td>won</td>\n",
       "      <td>1st</td>\n",
       "      <td>v Australia</td>\n",
       "      <td>Away</td>\n",
       "      <td>2012-01-03</td>\n",
       "    </tr>\n",
       "    <tr>\n",
       "      <th>...</th>\n",
       "      <td>...</td>\n",
       "      <td>...</td>\n",
       "      <td>...</td>\n",
       "      <td>...</td>\n",
       "      <td>...</td>\n",
       "      <td>...</td>\n",
       "      <td>...</td>\n",
       "      <td>...</td>\n",
       "    </tr>\n",
       "    <tr>\n",
       "      <th>80</th>\n",
       "      <td>Y</td>\n",
       "      <td>won</td>\n",
       "      <td>203 runs</td>\n",
       "      <td>won</td>\n",
       "      <td>1st</td>\n",
       "      <td>v South Africa</td>\n",
       "      <td>Home</td>\n",
       "      <td>2019-10-02</td>\n",
       "    </tr>\n",
       "    <tr>\n",
       "      <th>81</th>\n",
       "      <td>Y</td>\n",
       "      <td>won</td>\n",
       "      <td>inns &amp; 137 runs</td>\n",
       "      <td>won</td>\n",
       "      <td>1st</td>\n",
       "      <td>v South Africa</td>\n",
       "      <td>Home</td>\n",
       "      <td>2019-10-10</td>\n",
       "    </tr>\n",
       "    <tr>\n",
       "      <th>82</th>\n",
       "      <td>Y</td>\n",
       "      <td>won</td>\n",
       "      <td>inns &amp; 202 runs</td>\n",
       "      <td>won</td>\n",
       "      <td>1st</td>\n",
       "      <td>v South Africa</td>\n",
       "      <td>Home</td>\n",
       "      <td>2019-10-19</td>\n",
       "    </tr>\n",
       "    <tr>\n",
       "      <th>83</th>\n",
       "      <td>Y</td>\n",
       "      <td>won</td>\n",
       "      <td>inns &amp; 130 runs</td>\n",
       "      <td>lost</td>\n",
       "      <td>2nd</td>\n",
       "      <td>v Bangladesh</td>\n",
       "      <td>Home</td>\n",
       "      <td>2019-11-14</td>\n",
       "    </tr>\n",
       "    <tr>\n",
       "      <th>84</th>\n",
       "      <td>Y</td>\n",
       "      <td>won</td>\n",
       "      <td>inns &amp; 46 runs</td>\n",
       "      <td>lost</td>\n",
       "      <td>2nd</td>\n",
       "      <td>v Bangladesh</td>\n",
       "      <td>Home</td>\n",
       "      <td>2019-11-22</td>\n",
       "    </tr>\n",
       "  </tbody>\n",
       "</table>\n",
       "<p>85 rows × 8 columns</p>\n",
       "</div>"
      ],
      "text/plain": [
       "   Ashwin Result           Margin  Toss  Bat      Opposition Location  \\\n",
       "0       Y    won        5 wickets  lost  2nd   v West Indies     Home   \n",
       "1       Y    won   inns & 15 runs   won  1st   v West Indies     Home   \n",
       "2       Y   draw                -  lost  2nd   v West Indies     Home   \n",
       "3       Y   lost         122 runs  lost  2nd     v Australia     Away   \n",
       "4       Y   lost   inns & 68 runs   won  1st     v Australia     Away   \n",
       "..    ...    ...              ...   ...  ...             ...      ...   \n",
       "80      Y    won         203 runs   won  1st  v South Africa     Home   \n",
       "81      Y    won  inns & 137 runs   won  1st  v South Africa     Home   \n",
       "82      Y    won  inns & 202 runs   won  1st  v South Africa     Home   \n",
       "83      Y    won  inns & 130 runs  lost  2nd    v Bangladesh     Home   \n",
       "84      Y    won   inns & 46 runs  lost  2nd    v Bangladesh     Home   \n",
       "\n",
       "   Start Date  \n",
       "0  2011-11-06  \n",
       "1  2011-11-14  \n",
       "2  2011-11-22  \n",
       "3  2011-12-26  \n",
       "4  2012-01-03  \n",
       "..        ...  \n",
       "80 2019-10-02  \n",
       "81 2019-10-10  \n",
       "82 2019-10-19  \n",
       "83 2019-11-14  \n",
       "84 2019-11-22  \n",
       "\n",
       "[85 rows x 8 columns]"
      ]
     },
     "execution_count": 11,
     "metadata": {},
     "output_type": "execute_result"
    }
   ],
   "source": [
    "df"
   ]
  },
  {
   "cell_type": "code",
   "execution_count": 16,
   "metadata": {
    "scrolled": true
   },
   "outputs": [
    {
     "data": {
      "text/plain": [
       "<AxesSubplot:>"
      ]
     },
     "execution_count": 16,
     "metadata": {},
     "output_type": "execute_result"
    },
    {
     "data": {
      "image/png": "[encoded data removed]",
      "text/plain": [
       "<Figure size 432x288 with 1 Axes>"
      ]
     },
     "metadata": {
      "needs_background": "light"
     },
     "output_type": "display_data"
    }
   ],
   "source": [
    "df.Location.hist()"
   ]
  },
  {
   "cell_type": "code",
   "execution_count": 17,
   "metadata": {},
   "outputs": [
    {
     "data": {
      "text/plain": [
       "<AxesSubplot:>"
      ]
     },
     "execution_count": 17,
     "metadata": {},
     "output_type": "execute_result"
    },
    {
     "data": {
      "image/png": "[encoded data removed]",
      "text/plain": [
       "<Figure size 432x288 with 1 Axes>"
      ]
     },
     "metadata": {
      "needs_background": "light"
     },
     "output_type": "display_data"
    }
   ],
   "source": [
    "df.Bat.hist()"
   ]
  },
  {
   "cell_type": "code",
   "execution_count": 18,
   "metadata": {},
   "outputs": [
    {
     "data": {
      "text/plain": [
       "<AxesSubplot:>"
      ]
     },
     "execution_count": 18,
     "metadata": {},
     "output_type": "execute_result"
    },
    {
     "data": {
      "image/png": "[encoded data removed]",
      "text/plain": [
       "<Figure size 432x288 with 1 Axes>"
      ]
     },
     "metadata": {
      "needs_background": "light"
     },
     "output_type": "display_data"
    }
   ],
   "source": [
    "df.Ashwin.hist()"
   ]
  },
  {
   "cell_type": "code",
   "execution_count": 19,
   "metadata": {},
   "outputs": [
    {
     "data": {
      "text/plain": [
       "<AxesSubplot:>"
      ]
     },
     "execution_count": 19,
     "metadata": {},
     "output_type": "execute_result"
    },
    {
     "data": {
      "image/png": "[encoded data removed]",
      "text/plain": [
       "<Figure size 432x288 with 1 Axes>"
      ]
     },
     "metadata": {
      "needs_background": "light"
     },
     "output_type": "display_data"
    }
   ],
   "source": [
    "df.Result.hist()"
   ]
  },
  {
   "cell_type": "code",
   "execution_count": null,
   "metadata": {},
   "outputs": [],
   "source": []
  },
  {
   "cell_type": "markdown",
   "metadata": {},
   "source": [
    "## Data Description"
   ]
  },
  {
   "cell_type": "code",
   "execution_count": 12,
   "metadata": {},
   "outputs": [
    {
     "name": "stdout",
     "output_type": "stream",
     "text": [
      "<class 'pandas.core.frame.DataFrame'>\n",
      "Int64Index: 85 entries, 0 to 84\n",
      "Data columns (total 8 columns):\n",
      " #   Column      Non-Null Count  Dtype         \n",
      "---  ------      --------------  -----         \n",
      " 0   Ashwin      85 non-null     object        \n",
      " 1   Result      85 non-null     object        \n",
      " 2   Margin      85 non-null     object        \n",
      " 3   Toss        85 non-null     object        \n",
      " 4   Bat         85 non-null     object        \n",
      " 5   Opposition  85 non-null     object        \n",
      " 6   Location    85 non-null     object        \n",
      " 7   Start Date  85 non-null     datetime64[ns]\n",
      "dtypes: datetime64[ns](1), object(7)\n",
      "memory usage: 6.0+ KB\n"
     ]
    }
   ],
   "source": [
    "df.info()"
   ]
  },
  {
   "cell_type": "code",
   "execution_count": null,
   "metadata": {},
   "outputs": [],
   "source": []
  },
  {
   "cell_type": "markdown",
   "metadata": {},
   "source": [
    "## Construction of Bayesian Network goes here "
   ]
  },
  {
   "cell_type": "markdown",
   "metadata": {},
   "source": [
    "### Solution for part 1 "
   ]
  },
  {
   "cell_type": "code",
   "execution_count": 33,
   "metadata": {},
   "outputs": [],
   "source": [
    "def prior_probability(arr):\n",
    "    unique, counts = np.unique(np.array(arr), return_counts=True)\n",
    "    return {\n",
    "        a: c/len(arr) for a,c  in zip(unique, counts)\n",
    "    }"
   ]
  },
  {
   "cell_type": "code",
   "execution_count": 34,
   "metadata": {},
   "outputs": [
    {
     "data": {
      "text/plain": [
       "{'draw': 0.18823529411764706,\n",
       " 'lost': 0.25882352941176473,\n",
       " 'won': 0.5529411764705883}"
      ]
     },
     "execution_count": 34,
     "metadata": {},
     "output_type": "execute_result"
    }
   ],
   "source": [
    "prior_probability(df.Result)"
   ]
  },
  {
   "cell_type": "code",
   "execution_count": null,
   "metadata": {},
   "outputs": [],
   "source": []
  },
  {
   "cell_type": "markdown",
   "metadata": {},
   "source": [
    "## Solution for part 2 "
   ]
  },
  {
   "cell_type": "code",
   "execution_count": 42,
   "metadata": {},
   "outputs": [],
   "source": [
    "def posterior_probability(arr1, arr2):\n",
    "    store = []\n",
    "    unique1 = np.unique(np.array(arr1))\n",
    "    unique2 = np.unique(np.array(arr2))\n",
    "    for u1 in unique1:\n",
    "        for u2 in unique2:\n",
    "            pp = ((arr1 == u1) & (arr2 == u2)).sum()/(arr1 == u1).sum()\n",
    "            store.append([u1, u2, pp])\n",
    "    return store"
   ]
  },
  {
   "cell_type": "code",
   "execution_count": 43,
   "metadata": {},
   "outputs": [
    {
     "data": {
      "text/plain": [
       "[['N', 'draw', 0.2],\n",
       " ['N', 'lost', 0.4666666666666667],\n",
       " ['N', 'won', 0.3333333333333333],\n",
       " ['Y', 'draw', 0.18571428571428572],\n",
       " ['Y', 'lost', 0.21428571428571427],\n",
       " ['Y', 'won', 0.6]]"
      ]
     },
     "execution_count": 43,
     "metadata": {},
     "output_type": "execute_result"
    }
   ],
   "source": [
    "posterior_probability(df.Ashwin, df.Result)"
   ]
  },
  {
   "cell_type": "code",
   "execution_count": null,
   "metadata": {},
   "outputs": [],
   "source": []
  },
  {
   "cell_type": "markdown",
   "metadata": {},
   "source": [
    "## Solution for part 3 "
   ]
  },
  {
   "cell_type": "code",
   "execution_count": null,
   "metadata": {},
   "outputs": [],
   "source": []
  },
  {
   "cell_type": "code",
   "execution_count": null,
   "metadata": {},
   "outputs": [],
   "source": []
  },
  {
   "cell_type": "code",
   "execution_count": null,
   "metadata": {},
   "outputs": [],
   "source": [
    "#Solution for part 4\n",
    "# a)\n",
    "# b) \n",
    "# c)\n",
    "# d) "
   ]
  },
  {
   "cell_type": "code",
   "execution_count": null,
   "metadata": {},
   "outputs": [],
   "source": [
    "#Feel free to add cells where necessary. "
   ]
  },
  {
   "cell_type": "markdown",
   "metadata": {},
   "source": [
    "<h3><center> Happy Coding!</center></h3>"
   ]
  }
 ],
 "metadata": {
  "kernelspec": {
   "display_name": "Python 3",
   "language": "python",
   "name": "python3"
  },
  "language_info": {
   "codemirror_mode": {
    "name": "ipython",
    "version": 3
   },
   "file_extension": ".py",
   "mimetype": "text/x-python",
   "name": "python",
   "nbconvert_exporter": "python",
   "pygments_lexer": "ipython3",
   "version": "3.8.5"
  }
 },
 "nbformat": 4,
 "nbformat_minor": 2
}
